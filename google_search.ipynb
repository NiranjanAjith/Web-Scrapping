{
 "cells": [
  {
   "cell_type": "code",
   "execution_count": 20,
   "id": "a96476f6-cb0b-47dd-8064-e1f3b1c56169",
   "metadata": {},
   "outputs": [],
   "source": [
    "#pip install selenium webdriver-manager\n",
    "#pip install transformers\n",
    "#pip install torch"
   ]
  },
  {
   "cell_type": "code",
   "execution_count": 21,
   "id": "56dec0cf-4bc4-466f-b72e-a2275844b524",
   "metadata": {},
   "outputs": [
    {
     "name": "stdout",
     "output_type": "stream",
     "text": [
      "libraries imported\n"
     ]
    }
   ],
   "source": [
    "# Importing necessary libraries\n",
    "import time\n",
    "from selenium import webdriver\n",
    "from selenium.webdriver.common.by import By\n",
    "from selenium.webdriver.common.keys import Keys\n",
    "from selenium.webdriver.chrome.service import Service\n",
    "from selenium.webdriver.chrome.options import Options\n",
    "from webdriver_manager.chrome import ChromeDriverManager\n",
    "import pandas as pd\n",
    "import csv\n",
    "#from transformers import pipeline\n",
    "\n",
    "print(\"libraries imported\")"
   ]
  },
  {
   "cell_type": "code",
   "execution_count": 22,
   "id": "405f9b71-3e20-4cd2-948e-eece281f1da4",
   "metadata": {},
   "outputs": [
    {
     "name": "stdout",
     "output_type": "stream",
     "text": [
      "chrome setup\n"
     ]
    }
   ],
   "source": [
    "# Setting up Chrome options for Selenium\n",
    "chrome_options = Options()\n",
    "chrome_options.add_argument(\"--headless\")\n",
    "chrome_options.add_argument(\"--disable-gpu\")\n",
    "chrome_options.add_argument(\"--no-sandbox\")\n",
    "\n",
    "# Initializing the Chrome driver\n",
    "driver = webdriver.Chrome(service=Service(ChromeDriverManager().install()), options=chrome_options)\n",
    "\n",
    "print(\"chrome setup\")"
   ]
  },
  {
   "cell_type": "code",
   "execution_count": 23,
   "id": "b48556c6-04a5-45be-806a-445886f1f839",
   "metadata": {},
   "outputs": [
    {
     "name": "stdout",
     "output_type": "stream",
     "text": [
      "google seaarch function defined\n"
     ]
    }
   ],
   "source": [
    "# Function to perform Google search and return URLs\n",
    "def google_search(query, num_results=10):\n",
    "    driver.get(\"https://www.google.com\")\n",
    "    search_box = driver.find_element(By.NAME, \"q\")\n",
    "    search_box.send_keys(query)\n",
    "    search_box.send_keys(Keys.RETURN)\n",
    "    time.sleep(2)\n",
    "    \n",
    "    # Scroll to the bottom to load more results\n",
    "    for _ in range(num_results // 10):  # Assuming 10 results per page\n",
    "        driver.execute_script(\"window.scrollTo(0, document.body.scrollHeight);\")\n",
    "        time.sleep(2)\n",
    "    \n",
    "    results = driver.find_elements(By.CSS_SELECTOR, 'div.g a')\n",
    "    links = [result.get_attribute('href') for result in results if result.get_attribute('href') is not None]\n",
    "    \n",
    "    return links[:num_results]\n",
    "\n",
    "print(\"google seaarch function defined\")"
   ]
  },
  {
   "cell_type": "code",
   "execution_count": 24,
   "id": "89139966-97ac-4dff-a53e-83997eb69605",
   "metadata": {},
   "outputs": [
    {
     "name": "stdout",
     "output_type": "stream",
     "text": [
      "45\n",
      "['https://www.abi.org.uk/products-and-issues/topics-and-issues/data-and-the-digital-revolution/data-in-insurance/', 'https://data.world/datasets/insurance', 'https://www.abi.org.uk/products-and-issues/topics-and-issues/data-and-the-digital-revolution/data-in-insurance/#:~:text=Insurers%20can%20gather%20data%20from,multiple%20sources%20and%20anonymise%20it.', 'https://www.plecto.com/blog/insurance/data-analytics-for-insurance/#:~:text=Insurance%20data%20analytics%20is%20the,related%20business%20decisions%20for%20decades.', 'https://doi.sc.gov/957/Understanding-Your-Insurance-Policy#:~:text=An%20insurance%20policy%20is%20a,responsibilities%20if%20a%20loss%20occurs.', 'https://www.auditanalytics.com/products/sec/insurance#:~:text=The%20Audit%20Analytics%20Insurance%20database,filing%20insurance%20companies%20since%202010.&text=Insurance%20law%20and%20regulation%20is%20established%20individually%20by%20each%20state.', 'https://www.mospi.gov.in/104-insurance-statistics', 'https://www.indiastat.com/data/insurance', 'https://datarade.ai/data-categories/insurance-data', 'https://irdai.gov.in/handbook-of-indian-insurance', 'https://www.kaggle.com/datasets/moneystore/agencyperformance', 'https://www.investindia.gov.in/sector/bfsi-insurance', 'https://www.ibef.org/industry/insurance-sector-india', 'https://www.ibef.org/industry/insurance-sector-india/infographic', 'https://www.ibef.org/industry/insurance-sector-india/showcase', 'https://www.ibef.org/industry/insurance-presentation', 'https://www.ibc.ca/industry-resources/insurance-data-tools', 'https://data.world/datasets/insurance', 'https://www.kaggle.com/datasets/moneystore/agencyperformance', 'https://www.kaggle.com/datasets/prakharrathi25/insurance-company-dataset', 'https://www.auditanalytics.com/products/sec/insurance#:~:text=The%20Audit%20Analytics%20Insurance%20database,filing%20insurance%20companies%20since%202010.&text=Insurance%20law%20and%20regulation%20is%20established%20individually%20by%20each%20state.', 'https://www.abi.org.uk/products-and-issues/topics-and-issues/data-and-the-digital-revolution/data-in-insurance/#:~:text=Insurers%20can%20gather%20data%20from,multiple%20sources%20and%20anonymise%20it.', 'https://datarade.ai/data-categories/insurance-data#:~:text=By%20analyzing%20various%20data%20sources,the%20appropriate%20coverage%20and%20pricing.', \"https://www.confused.com/car-insurance/guides/motor-insurance-database#:~:text=It's%20a%20central%20database%20of,been%20reported%20to%20insurance%20companies.\", 'https://datarade.ai/search/products/insurance-dataset', 'https://catalog.data.gov/dataset?res_format=CSV&tags=insurance', 'https://data.world/datasets/health-insurance', 'https://www.census.gov/topics/health/health-insurance/data/datasets.html', 'https://www.sciencedirect.com/science/article/pii/S2352340922008605', 'https://dataful.in/datasets/?q=life%20insurance', 'https://www.synthesized.io/data-template-pages/business-property-insurance-risk', 'https://irdai.gov.in/irs', 'https://nir.ndml.in/', 'https://www.camsrepository.com/', 'https://irdai.gov.in/list-of-insurance-repository', 'https://irdai.gov.in/faq-on-insurance-repository#:~:text=%E2%80%9CInsurance%20Repository%E2%80%9D%20means%20a%20company,form%20on%20behalf%20of%20Insurers.', 'https://www.ndml.in/nir.php#:~:text=Online%20Insurance%20Policies%20Depository%20which,Under%20IRDAI%20Regulation%20And%20Authorisation.', 'https://www.registrationwala.com/insurance-repository-registration', 'https://m.economictimes.com/wealth/insure/insurance-new-rule-e-insurance-in-demat-like-format-mandatory-for-all-new-policies-from-april-1-2024-what-is-going-to-change/articleshow/108872364.cms#:~:text=There%20are%20four%20insurance%20repositories,e%2DInsurance%20accounts%20in%20India.', 'https://www.ndml.in/nir.php', 'https://policyholder.gov.in/insurance-repositories', 'https://www.kinrep.com/', 'https://www.iciciprulife.com/services/e-insurance-account.html', 'https://content.naic.org/insurance-topics/financial-data-repository', 'https://www.kaggle.com/datasets/prakharrathi25/insurance-company-dataset']\n"
     ]
    }
   ],
   "source": [
    "# Example usage\n",
    "queries = ['insurance policy data','insurance policy dataset','insurance policy data repository']\n",
    "urls = []\n",
    "for query in queries:\n",
    "    urls.extend(google_search(query, num_results=20))\n",
    "print(len(urls))\n",
    "print(urls)"
   ]
  },
  {
   "cell_type": "code",
   "execution_count": 25,
   "id": "7917218d-b2ce-4d09-ac7f-8bb61070859f",
   "metadata": {},
   "outputs": [
    {
     "name": "stdout",
     "output_type": "stream",
     "text": [
      "                                                 Data\n",
      "0   https://www.abi.org.uk/products-and-issues/top...\n",
      "1               https://data.world/datasets/insurance\n",
      "2   https://www.abi.org.uk/products-and-issues/top...\n",
      "3   https://www.plecto.com/blog/insurance/data-ana...\n",
      "4   https://doi.sc.gov/957/Understanding-Your-Insu...\n",
      "5   https://www.auditanalytics.com/products/sec/in...\n",
      "6   https://www.mospi.gov.in/104-insurance-statistics\n",
      "7            https://www.indiastat.com/data/insurance\n",
      "8   https://datarade.ai/data-categories/insurance-...\n",
      "9   https://irdai.gov.in/handbook-of-indian-insurance\n",
      "10  https://www.kaggle.com/datasets/moneystore/age...\n",
      "11  https://www.investindia.gov.in/sector/bfsi-ins...\n",
      "12  https://www.ibef.org/industry/insurance-sector...\n",
      "13  https://www.ibef.org/industry/insurance-sector...\n",
      "14  https://www.ibef.org/industry/insurance-sector...\n",
      "15  https://www.ibef.org/industry/insurance-presen...\n",
      "16  https://www.ibc.ca/industry-resources/insuranc...\n",
      "17              https://data.world/datasets/insurance\n",
      "18  https://www.kaggle.com/datasets/moneystore/age...\n",
      "19  https://www.kaggle.com/datasets/prakharrathi25...\n",
      "20  https://www.auditanalytics.com/products/sec/in...\n",
      "21  https://www.abi.org.uk/products-and-issues/top...\n",
      "22  https://datarade.ai/data-categories/insurance-...\n",
      "23  https://www.confused.com/car-insurance/guides/...\n",
      "24  https://datarade.ai/search/products/insurance-...\n",
      "25  https://catalog.data.gov/dataset?res_format=CS...\n",
      "26       https://data.world/datasets/health-insurance\n",
      "27  https://www.census.gov/topics/health/health-in...\n",
      "28  https://www.sciencedirect.com/science/article/...\n",
      "29    https://dataful.in/datasets/?q=life%20insurance\n",
      "30  https://www.synthesized.io/data-template-pages...\n",
      "31                           https://irdai.gov.in/irs\n",
      "32                               https://nir.ndml.in/\n",
      "33                    https://www.camsrepository.com/\n",
      "34  https://irdai.gov.in/list-of-insurance-repository\n",
      "35  https://irdai.gov.in/faq-on-insurance-reposito...\n",
      "36  https://www.ndml.in/nir.php#:~:text=Online%20I...\n",
      "37  https://www.registrationwala.com/insurance-rep...\n",
      "38  https://m.economictimes.com/wealth/insure/insu...\n",
      "39                        https://www.ndml.in/nir.php\n",
      "40  https://policyholder.gov.in/insurance-reposito...\n",
      "41                            https://www.kinrep.com/\n",
      "42  https://www.iciciprulife.com/services/e-insura...\n",
      "43  https://content.naic.org/insurance-topics/fina...\n",
      "44  https://www.kaggle.com/datasets/prakharrathi25...\n",
      "CSV file \"domains.csv\" has been created successfully.\n"
     ]
    }
   ],
   "source": [
    "csv_file = 'domains.csv'\n",
    "\n",
    "df = pd.DataFrame(urls, columns=['Data'])\n",
    "df.to_csv(csv_file, index=False, quoting=csv.QUOTE_ALL)\n",
    "\n",
    "print(df)\n",
    "\n",
    "print(f'CSV file \"{csv_file}\" has been created successfully.')"
   ]
  },
  {
   "cell_type": "code",
   "execution_count": 26,
   "id": "d58e46e0-f224-4e9a-8e55-ae066e3d09c2",
   "metadata": {},
   "outputs": [],
   "source": [
    "# Closing the WebDriver\n",
    "driver.quit()"
   ]
  }
 ],
 "metadata": {
  "kernelspec": {
   "display_name": "Python 3 (ipykernel)",
   "language": "python",
   "name": "python3"
  },
  "language_info": {
   "codemirror_mode": {
    "name": "ipython",
    "version": 3
   },
   "file_extension": ".py",
   "mimetype": "text/x-python",
   "name": "python",
   "nbconvert_exporter": "python",
   "pygments_lexer": "ipython3",
   "version": "3.12.4"
  }
 },
 "nbformat": 4,
 "nbformat_minor": 5
}
